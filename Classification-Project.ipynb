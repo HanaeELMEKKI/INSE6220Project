{
  "nbformat": 4,
  "nbformat_minor": 0,
  "metadata": {
    "colab": {
      "provenance": [],
      "authorship_tag": "ABX9TyOlCExtUgEaEGUsIWb9zNz3",
      "include_colab_link": true
    },
    "kernelspec": {
      "name": "python3",
      "display_name": "Python 3"
    },
    "language_info": {
      "name": "python"
    }
  },
  "cells": [
    {
      "cell_type": "markdown",
      "metadata": {
        "id": "view-in-github",
        "colab_type": "text"
      },
      "source": [
        "<a href=\"https://colab.research.google.com/github/HanaeELMEKKI/INSE_6220_Project/blob/main/Classification-Project.ipynb\" target=\"_parent\"><img src=\"https://colab.research.google.com/assets/colab-badge.svg\" alt=\"Open In Colab\"/></a>"
      ]
    },
    {
      "cell_type": "code",
      "execution_count": null,
      "metadata": {
        "id": "nKWdx74juSrW"
      },
      "outputs": [],
      "source": [
        "#INSE_6220_Project\n",
        "\n",
        "# uninstall numpy current version\n",
        "import numpy as np\n",
        "print (np.__version__)\n",
        "\n",
        "# install slim version (default): if you get an error message, run it again\n",
        "!pip install pycaret==2.3.6\n",
        "\n",
        "#Run the below code in your notebook to check the installed version\n",
        "from pycaret.utils import version\n",
        "version()\n",
        "\n",
        "import numpy as np\n",
        "import matplotlib.pyplot as plt\n",
        "import seaborn as sns\n",
        "sns.set_theme(style=\"darkgrid\")\n",
        "import pandas as pd\n",
        "plt.rcParams['figure.figsize'] = (7,5)\n",
        "\n",
        "from sklearn.decomposition import PCA\n",
        "from sklearn.preprocessing import StandardScaler\n",
        "\n",
        "print(\"Pandas version: \", pd.__version__)\n",
        "print(\"Seaborn version: \", sns.__version__)\n"
      ]
    },
    {
      "cell_type": "markdown",
      "source": [
        "Dataset\n",
        "\n",
        "The examined group comprised kernels belonging to three different varieties of wheat: Kama, Rosa and Canadian, 70 elements each, randomly selected for the experiment. High quality visualization of the internal kernel structure was detected using a soft X-ray technique. It is non-destructive and considerably cheaper than other more sophisticated imaging techniques like scanning microscopy or laser technology. The images were recorded on 13x18 cm X-ray KODAK plates. Studies were conducted using combine harvested wheat grain originating from experimental fields, explored at the Institute of Agrophysics of the Polish Academy of Sciences in Lublin.\n",
        "\n",
        "The data set can be used for the tasks of classification and cluster analysis.\n",
        "\n",
        "Attribute Information:\n",
        "\n",
        "To construct the data, seven geometric parameters of wheat kernels were measured:\n",
        "\n",
        "area A,\n",
        "perimeter P,\n",
        "compactness C = 4piA/P^2,\n",
        "length of kernel,\n",
        "width of kernel,\n",
        "asymmetry coefficient\n",
        "length of kernel groove.\n",
        "All of these parameters were real-valued continuous.\n",
        "\n",
        "https://archive.ics.uci.edu/ml/datasets/seeds"
      ],
      "metadata": {
        "id": "PJPFTZOwzQKK"
      }
    }
  ]
}