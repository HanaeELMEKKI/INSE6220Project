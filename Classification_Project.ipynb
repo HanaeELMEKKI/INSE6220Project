{
  "nbformat": 4,
  "nbformat_minor": 0,
  "metadata": {
    "colab": {
      "provenance": [],
      "toc_visible": true,
      "authorship_tag": "ABX9TyNI+jPE/cxZL4URyU1Nj+sm",
      "include_colab_link": true
    },
    "kernelspec": {
      "name": "python3",
      "display_name": "Python 3"
    },
    "language_info": {
      "name": "python"
    }
  },
  "cells": [
    {
      "cell_type": "markdown",
      "metadata": {
        "id": "view-in-github",
        "colab_type": "text"
      },
      "source": [
        "<a href=\"https://colab.research.google.com/github/HanaeELMEKKI/INSE_6220_Project/blob/main/Classification_Project.ipynb\" target=\"_parent\"><img src=\"https://colab.research.google.com/assets/colab-badge.svg\" alt=\"Open In Colab\"/></a>"
      ]
    },
    {
      "cell_type": "code",
      "execution_count": null,
      "metadata": {
        "id": "nKWdx74juSrW"
      },
      "outputs": [],
      "source": [
        "#INSE_6220_Project\n",
        "\n",
        "# uninstall numpy current version\n",
        "import numpy as np\n",
        "print (np.__version__)\n",
        "\n",
        "# install slim version (default): if you get an error message, run it again\n",
        "!pip install pycaret==2.3.6\n",
        "\n",
        "#Run the below code in your notebook to check the installed version\n",
        "from pycaret.utils import version\n",
        "version()\n",
        "\n",
        "import numpy as np\n",
        "import matplotlib.pyplot as plt\n",
        "import seaborn as sns\n",
        "sns.set_theme(style=\"darkgrid\")\n",
        "import pandas as pd\n",
        "plt.rcParams['figure.figsize'] = (7,5)\n",
        "\n",
        "from sklearn.decomposition import PCA\n",
        "from sklearn.preprocessing import StandardScaler\n",
        "\n",
        "print(\"Pandas version: \", pd.__version__)\n",
        "print(\"Seaborn version: \", sns.__version__)\n"
      ]
    },
    {
      "cell_type": "markdown",
      "source": [
        "Dataset\n",
        "\n",
        "The datasets groups/ holds/ contains/ classify eryhemato-Squamos dermatology diseases and classify them in 6 groups : psoriasis, seboreic dermatitis, lichen planus,pityriasis rosea, cronic dermatitis, and pityriasis rubra pilaris.\n",
        "Datasets contains 366 instances (rows) and 34 attributes , 12 represent patients features and 22 are histopathological features. \n",
        "Every feature has a value from 0 to 3, except, the linear feature age (of patients):\n",
        "\n",
        " 0 indicates that the feature was not present, \n",
        " 3 indicates the largest amount possible,\n",
        " 1, 2 indicate the relative intermediate values.\n",
        "\n",
        "Attribute Information:\n",
        "      Clinical Attributes: (take values 0, 1, 2, 3, unless otherwise indicated)\n",
        "      1: erythema\n",
        "      2: scaling\n",
        "      3: definite borders\n",
        "      4: itching\n",
        "      5: koebner phenomenon\n",
        "      6: polygonal papules\n",
        "      7: follicular papules\n",
        "      8: oral mucosal involvement\n",
        "      9: knee and elbow involvement\n",
        "     10: scalp involvement\n",
        "     11: family history, (0 or 1)\n",
        "     34: Age (linear)\n",
        "\n",
        "     Histopathological Attributes: (take values 0, 1, 2, 3)\n",
        "     12: melanin incontinence\n",
        "     13: eosinophils in the infiltrate\n",
        "     14: PNL infiltrate\n",
        "     15: fibrosis of the papillary dermis\n",
        "     16: exocytosis\n",
        "     17: acanthosis\n",
        "     18: hyperkeratosis\n",
        "     19: parakeratosis\n",
        "     20: clubbing of the rete ridges\n",
        "     21: elongation of the rete ridges\n",
        "     22: thinning of the suprapapillary epidermis\n",
        "     23: spongiform pustule\n",
        "     24: munro microabcess\n",
        "     25: focal hypergranulosis\n",
        "     26: disappearance of the granular layer\n",
        "     27: vacuolisation and damage of basal layer\n",
        "     28: spongiosis\n",
        "     29: saw-tooth appearance of retes\n",
        "     30: follicular horn plug\n",
        "     31: perifollicular parakeratosis\n",
        "     32: inflammatory monoluclear inflitrate\n",
        "     33: band-like infiltrate\n",
        " \n",
        "The measurement were conducted through the analysis of samples under a microscope.\n",
        "\n",
        "https://archive.ics.uci.edu/ml/datasets/seeds"
      ],
      "metadata": {
        "id": "PJPFTZOwzQKK"
      }
    }
  ]
}